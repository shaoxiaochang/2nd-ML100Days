{
 "cells": [
  {
   "cell_type": "markdown",
   "metadata": {},
   "source": [
    "## 練習時間\n",
    "在小量的資料上，我們用眼睛就可以看得出來程式碼是否有跑出我們理想中的結果\n",
    "\n",
    "請嘗試想像一個你需要的資料結構 (裡面的值可以是隨機的)，然後用上述的方法把它變成 pandas DataFrame\n",
    "\n",
    "#### Ex: 想像一個 dataframe 有兩個欄位，一個是國家，一個是人口，求人口數最多的國家\n",
    "\n",
    "### Hints: [隨機產生數值](https://blog.csdn.net/christianashannon/article/details/78867204)"
   ]
  },
  {
   "cell_type": "code",
   "execution_count": 1,
   "metadata": {},
   "outputs": [],
   "source": [
    "import pandas as pd\n",
    "import numpy as np"
   ]
  },
  {
   "cell_type": "markdown",
   "metadata": {},
   "source": [
    "### 方法一"
   ]
  },
  {
   "cell_type": "code",
   "execution_count": 2,
   "metadata": {},
   "outputs": [
    {
     "name": "stdout",
     "output_type": "stream",
     "text": [
      "          人口             國家\n",
      "0    3000000         Taiwan\n",
      "1   50000000  United States\n",
      "2  700000000       Thailand\n"
     ]
    }
   ],
   "source": [
    "data = {'國家': ['Taiwan', 'United States', 'Thailand'],\n",
    "        '人口': [3000000, 50000000, 700000000]}\n",
    "population = pd.DataFrame(data)\n",
    "print(population)"
   ]
  },
  {
   "cell_type": "markdown",
   "metadata": {
    "collapsed": true
   },
   "source": [
    "### 方法二"
   ]
  },
  {
   "cell_type": "code",
   "execution_count": 3,
   "metadata": {},
   "outputs": [
    {
     "name": "stdout",
     "output_type": "stream",
     "text": [
      "[('國家', ['Taiwan', 'United States', 'Thailand']), ('人口', array([17618766,  6509827, 35583282]))]\n"
     ]
    }
   ],
   "source": [
    "countries = ['Taiwan', 'United States', 'Thailand']\n",
    "population = np.random.randint(3000000, 50000000, size=3)\n",
    "\n",
    "list_labels = ['國家', '人口']\n",
    "list_cols = [countries, population]\n",
    "\n",
    "zipped = list(zip(list_labels, list_cols))\n",
    "print(zipped)"
   ]
  },
  {
   "cell_type": "code",
   "execution_count": 4,
   "metadata": {},
   "outputs": [
    {
     "data": {
      "text/plain": [
       "{'人口': array([17618766,  6509827, 35583282]),\n",
       " '國家': ['Taiwan', 'United States', 'Thailand']}"
      ]
     },
     "execution_count": 4,
     "metadata": {},
     "output_type": "execute_result"
    }
   ],
   "source": [
    "dict(zipped)"
   ]
  },
  {
   "cell_type": "code",
   "execution_count": 5,
   "metadata": {},
   "outputs": [
    {
     "name": "stdout",
     "output_type": "stream",
     "text": [
      "         人口             國家\n",
      "0  17618766         Taiwan\n",
      "1   6509827  United States\n",
      "2  35583282       Thailand\n"
     ]
    }
   ],
   "source": [
    "population_2 = pd.DataFrame(dict(zipped))\n",
    "print(population_2)"
   ]
  },
  {
   "cell_type": "code",
   "execution_count": null,
   "metadata": {},
   "outputs": [],
   "source": []
  }
 ],
 "metadata": {
  "kernelspec": {
   "display_name": "Python 3",
   "language": "python",
   "name": "python3"
  },
  "language_info": {
   "codemirror_mode": {
    "name": "ipython",
    "version": 3
   },
   "file_extension": ".py",
   "mimetype": "text/x-python",
   "name": "python",
   "nbconvert_exporter": "python",
   "pygments_lexer": "ipython3",
   "version": "3.6.4"
  }
 },
 "nbformat": 4,
 "nbformat_minor": 2
}
