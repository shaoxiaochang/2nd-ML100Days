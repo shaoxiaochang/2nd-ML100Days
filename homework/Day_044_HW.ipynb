{
 "cells": [
  {
   "cell_type": "markdown",
   "metadata": {},
   "source": [
    "## [作業重點]\n",
    "確保你了解隨機森林模型中每個超參數的意義，並觀察調整超參數對結果的影響"
   ]
  },
  {
   "cell_type": "markdown",
   "metadata": {},
   "source": [
    "## 作業\n",
    "\n",
    "1. 試著調整 RandomForestClassifier(...) 中的參數，並觀察是否會改變結果？\n",
    "2. 改用其他資料集 (boston, wine)，並與回歸模型與決策樹的結果進行比較"
   ]
  },
  {
   "cell_type": "code",
   "execution_count": 1,
   "metadata": {},
   "outputs": [],
   "source": [
    "from sklearn import datasets, metrics\n",
    "from sklearn.ensemble import RandomForestClassifier\n",
    "from sklearn.model_selection import train_test_split"
   ]
  },
  {
   "cell_type": "code",
   "execution_count": 2,
   "metadata": {},
   "outputs": [],
   "source": [
    "# 讀取鳶尾花資料集\n",
    "iris = datasets.load_iris()\n",
    "\n",
    "# 切分訓練集/測試集\n",
    "x_train, x_test, y_train, y_test = train_test_split(iris.data, iris.target, test_size=0.25, random_state=4)\n",
    "\n",
    "# 建立模型 (使用 20 顆樹，每棵樹的最大深度為 4)\n",
    "clf = RandomForestClassifier(n_estimators=20, max_depth=4)\n",
    "\n",
    "# 訓練模型\n",
    "clf.fit(x_train, y_train)\n",
    "\n",
    "# 預測測試集\n",
    "y_pred = clf.predict(x_test)"
   ]
  },
  {
   "cell_type": "code",
   "execution_count": 3,
   "metadata": {},
   "outputs": [
    {
     "name": "stdout",
     "output_type": "stream",
     "text": [
      "Accuracy:  0.9736842105263158\n"
     ]
    }
   ],
   "source": [
    "acc = metrics.accuracy_score(y_test, y_pred)\n",
    "print(\"Accuracy: \", acc)"
   ]
  },
  {
   "cell_type": "code",
   "execution_count": 5,
   "metadata": {},
   "outputs": [
    {
     "name": "stdout",
     "output_type": "stream",
     "text": [
      "Feature Name:  ['sepal length (cm)', 'sepal width (cm)', 'petal length (cm)', 'petal width (cm)']\n",
      "Feature importance:  [0.08919881 0.00390383 0.55907227 0.34782508]\n"
     ]
    }
   ],
   "source": [
    "print(\"Feature Name: \",iris.feature_names)\n",
    "print(\"Feature importance: \", clf.feature_importances_)"
   ]
  },
  {
   "cell_type": "markdown",
   "metadata": {},
   "source": [
    "#### 調整參數"
   ]
  },
  {
   "cell_type": "code",
   "execution_count": 15,
   "metadata": {},
   "outputs": [],
   "source": [
    "import numpy as np\n",
    "import time"
   ]
  },
  {
   "cell_type": "code",
   "execution_count": 24,
   "metadata": {},
   "outputs": [
    {
     "name": "stdout",
     "output_type": "stream",
     "text": [
      "n_estimators: 1 Accuracy:  0.9736842105263158\n",
      "It cost 0.002002 sec\n",
      "n_estimators: 2 Accuracy:  0.9210526315789473\n",
      "It cost 0.002999 sec\n",
      "n_estimators: 3 Accuracy:  0.9473684210526315\n",
      "It cost 0.003999 sec\n",
      "n_estimators: 4 Accuracy:  0.9736842105263158\n",
      "It cost 0.004998 sec\n",
      "n_estimators: 5 Accuracy:  0.9736842105263158\n",
      "It cost 0.006999 sec\n",
      "n_estimators: 6 Accuracy:  0.9736842105263158\n",
      "It cost 0.005998 sec\n",
      "n_estimators: 7 Accuracy:  0.9473684210526315\n",
      "It cost 0.006998 sec\n",
      "n_estimators: 8 Accuracy:  0.9736842105263158\n",
      "It cost 0.007998 sec\n",
      "n_estimators: 9 Accuracy:  0.9736842105263158\n",
      "It cost 0.008997 sec\n",
      "n_estimators: 10 Accuracy:  0.9473684210526315\n",
      "It cost 0.010996 sec\n",
      "n_estimators: 11 Accuracy:  0.9736842105263158\n",
      "It cost 0.010997 sec\n",
      "n_estimators: 12 Accuracy:  1.0\n",
      "It cost 0.010997 sec\n",
      "n_estimators: 13 Accuracy:  0.9473684210526315\n",
      "It cost 0.012995 sec\n",
      "n_estimators: 14 Accuracy:  0.9736842105263158\n",
      "It cost 0.012996 sec\n",
      "n_estimators: 15 Accuracy:  0.9736842105263158\n",
      "It cost 0.013995 sec\n",
      "n_estimators: 16 Accuracy:  0.9473684210526315\n",
      "It cost 0.014995 sec\n",
      "n_estimators: 17 Accuracy:  0.9473684210526315\n",
      "It cost 0.014995 sec\n",
      "n_estimators: 18 Accuracy:  0.9736842105263158\n",
      "It cost 0.016994 sec\n",
      "n_estimators: 19 Accuracy:  0.9736842105263158\n",
      "It cost 0.016995 sec\n",
      "n_estimators: 20 Accuracy:  0.9736842105263158\n",
      "It cost 0.020994 sec\n"
     ]
    }
   ],
   "source": [
    "# max_depth=4\n",
    "num_trees = np.arange(1,21,1)\n",
    "for num_tree in num_trees:\n",
    "    clf = RandomForestClassifier(n_estimators=num_tree, max_depth=4)\n",
    "    \n",
    "    tStart = time.time()#計時開始\n",
    "    \n",
    "    clf.fit(x_train, y_train)\n",
    "    \n",
    "    tEnd = time.time()#計時結束\n",
    "    \n",
    "    y_pred = clf.predict(x_test)\n",
    "    acc = metrics.accuracy_score(y_test, y_pred)\n",
    "    print(\"n_estimators: {} Accuracy: \".format(num_tree), acc)\n",
    "    print(\"It cost %f sec\" % (tEnd - tStart))"
   ]
  },
  {
   "cell_type": "code",
   "execution_count": 27,
   "metadata": {},
   "outputs": [
    {
     "name": "stdout",
     "output_type": "stream",
     "text": [
      "n_estimators: 1 Accuracy:  0.9473684210526315\n",
      "It cost 0.002000 sec\n",
      "n_estimators: 2 Accuracy:  0.9736842105263158\n",
      "It cost 0.002999 sec\n",
      "n_estimators: 3 Accuracy:  0.9736842105263158\n",
      "It cost 0.004998 sec\n",
      "n_estimators: 4 Accuracy:  0.9736842105263158\n",
      "It cost 0.005999 sec\n",
      "n_estimators: 5 Accuracy:  0.9736842105263158\n",
      "It cost 0.005997 sec\n",
      "n_estimators: 6 Accuracy:  0.9473684210526315\n",
      "It cost 0.006997 sec\n",
      "n_estimators: 7 Accuracy:  0.9736842105263158\n",
      "It cost 0.007998 sec\n",
      "n_estimators: 8 Accuracy:  0.9736842105263158\n",
      "It cost 0.007997 sec\n",
      "n_estimators: 9 Accuracy:  0.9736842105263158\n",
      "It cost 0.008996 sec\n",
      "n_estimators: 10 Accuracy:  0.9473684210526315\n",
      "It cost 0.010997 sec\n",
      "n_estimators: 11 Accuracy:  0.9736842105263158\n",
      "It cost 0.009996 sec\n",
      "n_estimators: 12 Accuracy:  0.9473684210526315\n",
      "It cost 0.011996 sec\n",
      "n_estimators: 13 Accuracy:  0.9736842105263158\n",
      "It cost 0.011997 sec\n",
      "n_estimators: 14 Accuracy:  0.9736842105263158\n",
      "It cost 0.012995 sec\n",
      "n_estimators: 15 Accuracy:  0.9736842105263158\n",
      "It cost 0.013995 sec\n",
      "n_estimators: 16 Accuracy:  0.9736842105263158\n",
      "It cost 0.014995 sec\n",
      "n_estimators: 17 Accuracy:  0.9736842105263158\n",
      "It cost 0.014995 sec\n",
      "n_estimators: 18 Accuracy:  0.9736842105263158\n",
      "It cost 0.016995 sec\n",
      "n_estimators: 19 Accuracy:  0.9736842105263158\n",
      "It cost 0.017995 sec\n",
      "n_estimators: 20 Accuracy:  0.9736842105263158\n",
      "It cost 0.019994 sec\n"
     ]
    }
   ],
   "source": [
    "# max_depth=10\n",
    "num_trees = np.arange(1,21,1)\n",
    "for num_tree in num_trees:\n",
    "    clf = RandomForestClassifier(n_estimators=num_tree, max_depth=10)\n",
    "    \n",
    "    tStart = time.time()#計時開始\n",
    "    \n",
    "    clf.fit(x_train, y_train)\n",
    "    \n",
    "    tEnd = time.time()#計時結束\n",
    "    \n",
    "    y_pred = clf.predict(x_test)\n",
    "    acc = metrics.accuracy_score(y_test, y_pred)\n",
    "    print(\"n_estimators: {} Accuracy: \".format(num_tree), acc)\n",
    "    print(\"It cost %f sec\" % (tEnd - tStart))"
   ]
  },
  {
   "cell_type": "markdown",
   "metadata": {},
   "source": [
    "#### wine"
   ]
  },
  {
   "cell_type": "code",
   "execution_count": 43,
   "metadata": {},
   "outputs": [
    {
     "name": "stdout",
     "output_type": "stream",
     "text": [
      "Accuracy:  0.8611111111111112\n"
     ]
    }
   ],
   "source": [
    "# decision tree\n",
    "from sklearn.tree import DecisionTreeClassifier\n",
    "wine = datasets.load_wine()\n",
    "x_train, x_test, y_train, y_test = train_test_split(wine.data, wine.target, test_size=0.2, random_state=4)\n",
    "clf = DecisionTreeClassifier(max_depth=4)\n",
    "clf.fit(x_train, y_train)\n",
    "y_pred = clf.predict(x_test)\n",
    "acc = metrics.accuracy_score(y_test, y_pred)\n",
    "print(\"Accuracy: \", acc)"
   ]
  },
  {
   "cell_type": "code",
   "execution_count": 44,
   "metadata": {},
   "outputs": [
    {
     "name": "stdout",
     "output_type": "stream",
     "text": [
      "Accuracy:  1.0\n"
     ]
    }
   ],
   "source": [
    "# Random Forest\n",
    "from sklearn.tree import DecisionTreeClassifier\n",
    "wine = datasets.load_wine()\n",
    "x_train, x_test, y_train, y_test = train_test_split(wine.data, wine.target, test_size=0.2, random_state=4)\n",
    "clf = RandomForestClassifier(n_estimators=10, max_depth=4)\n",
    "clf.fit(x_train, y_train)\n",
    "y_pred = clf.predict(x_test)\n",
    "acc = metrics.accuracy_score(y_test, y_pred)\n",
    "print(\"Accuracy: \", acc)"
   ]
  },
  {
   "cell_type": "code",
   "execution_count": null,
   "metadata": {},
   "outputs": [],
   "source": []
  }
 ],
 "metadata": {
  "kernelspec": {
   "display_name": "Python 3",
   "language": "python",
   "name": "python3"
  },
  "language_info": {
   "codemirror_mode": {
    "name": "ipython",
    "version": 3
   },
   "file_extension": ".py",
   "mimetype": "text/x-python",
   "name": "python",
   "nbconvert_exporter": "python",
   "pygments_lexer": "ipython3",
   "version": "3.6.4"
  }
 },
 "nbformat": 4,
 "nbformat_minor": 2
}
